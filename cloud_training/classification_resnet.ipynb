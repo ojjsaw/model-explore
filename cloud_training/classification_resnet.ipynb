{
 "cells": [
  {
   "cell_type": "code",
   "execution_count": 3,
   "id": "9c1047c7-2d82-48ad-8e34-ea9b496b3469",
   "metadata": {},
   "outputs": [],
   "source": [
    "import matplotlib.pyplot as plt\n",
    "import os\n",
    "import time\n",
    "import sys"
   ]
  },
  {
   "cell_type": "code",
   "execution_count": null,
   "id": "3d014c5b-c601-4cd1-85d1-ac67eafa0ef6",
   "metadata": {},
   "outputs": [],
   "source": [
    "!mo --saved_model_dir ./000000001/ --data_type FP32 --output_dir models/resnet_50/FP32 --input_shape [1,180,180,3]"
   ]
  },
  {
   "cell_type": "code",
   "execution_count": null,
   "id": "d0ca6be4-1961-43c5-9358-f8a801df41e7",
   "metadata": {},
   "outputs": [],
   "source": [
    "!mo --saved_model_dir ./000000001/ --data_type FP16 --output_dir models/resnet_50/FP16 --input_shape [1,180,180,3]"
   ]
  },
  {
   "cell_type": "code",
   "execution_count": null,
   "id": "36dadd2d-8c7b-4a92-be9f-cb442a25d3da",
   "metadata": {},
   "outputs": [],
   "source": [
    "%%writefile ov_classification_job.sh\n",
    "\n",
    "OUTPUT_FILE=$1\n",
    "DEVICE=$2\n",
    "FP_MODEL=$3\n",
    "INPUT_PATH=$4\n",
    "NUM_REQS=5$5\n",
    "\n",
    "echo VENV_PATH=$VENV_PATH\n",
    "echo OPENVINO_RUNTIME=$OPENVINO_RUNTIME\n",
    "echo INPUT_FILE=$INPUT_FILE\n",
    "echo FP_MODEL=$FP_MODEL\n",
    "echo INPUT_TILE=$INPUT_FILE\n",
    "echo NUM_REQS=$NUM_REQS\n",
    "\n",
    "# Follow this order of setting up environment for openVINO 2022.1.0.553\n",
    "echo \"Activating a Python virtual environment from ${VENV_PATH}...\"\n",
    "source ${VENV_PATH}/bin/activate\n",
    "echo \"Activating OpenVINO variables from ${OPENVINO_RUNTIME}...\"\n",
    "source ${OPENVINO_RUNTIME}/setupvars.sh\n",
    "\n",
    "# The default path for the job is the user's home directory,\n",
    "#  change directory to where the files are.\n",
    "cd $PBS_O_WORKDIR\n",
    "\n",
    "# Make sure that the output directory exists.\n",
    "mkdir -p $OUTPUT_FILE\n",
    "\n",
    "# Set inference model IR files using specified precision\n",
    "MODELPATH=./models/resnet_50/${FP_MODEL}/saved_model.xml\n",
    "LABEL_FILE=./model_classes.txt\n",
    "INPUT_PATH=./inferece_images/\n",
    "\n",
    "\n",
    "python3 classification_demo.py -i $INPUT_PATH -m $MODELPATH -o $OUTPUT_FILE --labels $LABEL_FILE -nireq $NUM_REQS\n",
    "\n",
    "\n",
    "\n",
    "# python3 classification_demo.py -m <path_to_classification_model> \\\n",
    "#                                -i <path_to_folder_with_images> \\\n",
    "#                                 --labels <path_to_file_with_list_of_labels>"
   ]
  },
  {
   "cell_type": "code",
   "execution_count": null,
   "id": "a9d4fc4b-8f5f-498c-9509-e919cace9999",
   "metadata": {},
   "outputs": [],
   "source": [
    "%%writefile ov_classify_job.sh\n",
    "\n",
    "INPUT=$1\n",
    "FP_MODEL=$2\n",
    "DEVICE=$3\n",
    "OUTPUT=$4\n",
    "\n",
    "# Follow this order of setting up environment for openVINO 2022.1.0.553\n",
    "echo \"Activating a Python virtual environment from ${VENV_PATH}...\"\n",
    "source ${VENV_PATH}/bin/activate\n",
    "echo \"Activating OpenVINO variables from ${OPENVINO_RUNTIME}...\"\n",
    "source ${OPENVINO_RUNTIME}/setupvars.sh\n",
    "\n",
    "MODELPATH=./models/resnet_50/${FP_MODEL}/saved_model.xml\n",
    "\n",
    "# The default path for the job is the user's home directory,\n",
    "#  change directory to where the files are.\n",
    "cd $PBS_O_WORKDIR\n",
    "\n",
    "python3 ov-classify.py "
   ]
  },
  {
   "cell_type": "code",
   "execution_count": 2,
   "id": "a7a0967c-b81d-4dcb-aec7-38d8e0a2eb35",
   "metadata": {},
   "outputs": [
    {
     "name": "stdout",
     "output_type": "stream",
     "text": [
      "Overwriting tf_classify_job.sh\n"
     ]
    }
   ],
   "source": [
    "%%writefile tf_classify_job.sh\n",
    "\n",
    "INPUT=$1\n",
    "FP_MODEL=$2\n",
    "DEVICE=$3\n",
    "OUTPUT=$4\n",
    "\n",
    "    \n",
    "\n",
    "# Follow this order of setting up environment for openVINO 2022.1.0.553\n",
    "echo \"Activating a Python virtual environment from ${VENV_PATH}...\"\n",
    "source ${VENV_PATH}/bin/activate\n",
    "echo \"Activating OpenVINO variables from ${OPENVINO_RUNTIME}...\"\n",
    "source ${OPENVINO_RUNTIME}/setupvars.sh\n",
    "\n",
    "\n",
    "\n",
    "# The default path for the job is the user's home directory,\n",
    "#  change directory to where the files are.\n",
    "cd $PBS_O_WORKDIR\n",
    "\n",
    "python3 tf-classify.py"
   ]
  },
  {
   "cell_type": "code",
   "execution_count": null,
   "id": "e11126d8-4eab-4b69-889c-bd5dc6002f52",
   "metadata": {},
   "outputs": [],
   "source": [
    "!pbsnodes | grep compnode | awk '{print $3}' | sort | uniq -c"
   ]
  },
  {
   "cell_type": "code",
   "execution_count": null,
   "id": "ae3b4836-a65b-4cf2-bd20-9ba644d75f4c",
   "metadata": {},
   "outputs": [],
   "source": [
    "# job_id_core = !qsub ov_classification_job.sh -l nodes=1:idc073 -F \"./results/core/ CPU FP32 0.4\" -N classification_core -v VENV_PATH,OPENVINO_RUNTIME\n",
    "# print(job_id_core[0])"
   ]
  },
  {
   "cell_type": "code",
   "execution_count": 1,
   "id": "e56e4fe4-caa3-4cd5-b6ff-22d993c1e719",
   "metadata": {},
   "outputs": [
    {
     "name": "stdout",
     "output_type": "stream",
     "text": [
      "546405.v-qsvr-1.devcloud-edge\n"
     ]
    }
   ],
   "source": [
    "job_id_ov_core = !qsub ov_classify_job.sh -l nodes=1:idc073 -F \"./results/core_ov/\" -N classify_core_ov -v VENV_PATH,OPENVINO_RUNTIME\n",
    "print(job_id_ov_core[0])"
   ]
  },
  {
   "cell_type": "code",
   "execution_count": null,
   "id": "66335cd8-87a1-48a5-8d23-31e8494848f0",
   "metadata": {},
   "outputs": [],
   "source": [
    "if cpu:\n",
    "    job_id_cpu_ov = !qsub ov_classify_job.sh -l nodes=1:idc073 -F \"./results/core_ov/ CPU FP32 \" -N classify_core_ov -v VENV_PATH,OPENVINO_RUNTIME\n",
    "print(job_id_ov_core[0])\n",
    "    job_id_cpu_tf = !qsub tf_classify_job.sh -l nodes=1:idc073 -F \"./results/core_ov/ CPU FP32\" -N classify_core_ov -v VENV_PATH,OPENVINO_RUNTIME\n",
    "print(job_id_ov_core[0])\n",
    "if gpu:\n",
    "job_id_ov_fp16 = !qsub ov_classify_job.sh -l nodes=1:idc073 -F \"./results/core_ov/ GPU FP16\" -N classify_core_ov -v VENV_PATH,OPENVINO_RUNTIME\n",
    "print(job_id_ov_core[0])\n",
    "job_id_ov_fp32 = !qsub ov_classify_job.sh -l nodes=1:idc073 -F \"./results/core_ov/ GPU FP32\" -N classify_core_ov -v VENV_PATH,OPENVINO_RUNTIME\n",
    "print(job_id_ov_core[0])"
   ]
  },
  {
   "cell_type": "code",
   "execution_count": 3,
   "id": "9f8528cc-b1c3-4b35-a9eb-fac5ae6102b9",
   "metadata": {},
   "outputs": [
    {
     "name": "stdout",
     "output_type": "stream",
     "text": [
      "536229.v-qsvr-1.devcloud-edge\n"
     ]
    }
   ],
   "source": [
    "job_id_tf_core = !qsub tf_classify_job.sh -l nodes=1:idc073 -F \"./results/core_tf/\" -N classify_core_tf -v VENV_PATH,OPENVINO_RUNTIME\n",
    "print(job_id_tf_core[0])"
   ]
  },
  {
   "cell_type": "code",
   "execution_count": null,
   "id": "3eb169fe-9c36-4af7-9a31-aed540b85484",
   "metadata": {},
   "outputs": [],
   "source": [
    "from qarpo.demoutils import *\n",
    "liveQstat()"
   ]
  },
  {
   "cell_type": "code",
   "execution_count": 4,
   "id": "810d2471-f152-4e6f-864f-2d080fba4b6a",
   "metadata": {},
   "outputs": [
    {
     "name": "stdout",
     "output_type": "stream",
     "text": [
      "FPS: 54.77 \n",
      "\n",
      "Inference time: 18.26 ms\n",
      "\n"
     ]
    }
   ],
   "source": [
    "job_id_ov = job_id_ov_core[0].split('.')[0]\n",
    "job_id_ov = 'o'+job_id_ov\n",
    "count = 0\n",
    "while not os.path.exists('./classify_core_ov.{}'.format(job_id_ov)):  # Wait until the stats file is created.\n",
    "    time.sleep(1)\n",
    "    count = count + 1\n",
    "    assert count != 180, \"Job did not finish\" #Wait to for 3 mins to check if job gets done, and break from the infinite loop\n",
    "x_ov = open(\"./classify_core_ov.{}\".format(job_id_ov), \"r\")\n",
    "import re\n",
    "stats = {}\n",
    "for fps_ov in x_ov:\n",
    "    if re.search('FPS', fps_ov):\n",
    "        print(fps_ov)\n",
    "        stats['FPS_OV'] = str(fps_ov.split(\" \")[1])\n",
    "    if re.search('Inference time', fps_ov):\n",
    "        print(fps_ov)\n",
    "        stats['Time_OV'] = str(fps_ov.split(\" \")[2])\n",
    "# print(stats)"
   ]
  },
  {
   "cell_type": "code",
   "execution_count": 6,
   "id": "3028d869-6c1e-4c29-a72a-bae2a0f95937",
   "metadata": {},
   "outputs": [
    {
     "name": "stdout",
     "output_type": "stream",
     "text": [
      "FPS: 32.12 fps\n",
      "\n"
     ]
    },
    {
     "ename": "NameError",
     "evalue": "name 'stats' is not defined",
     "output_type": "error",
     "traceback": [
      "\u001b[0;31m---------------------------------------------------------------------------\u001b[0m",
      "\u001b[0;31mNameError\u001b[0m                                 Traceback (most recent call last)",
      "\u001b[0;32m<ipython-input-6-778b6faeba39>\u001b[0m in \u001b[0;36m<module>\u001b[0;34m\u001b[0m\n\u001b[1;32m     11\u001b[0m     \u001b[0;32mif\u001b[0m \u001b[0mre\u001b[0m\u001b[0;34m.\u001b[0m\u001b[0msearch\u001b[0m\u001b[0;34m(\u001b[0m\u001b[0;34m'FPS'\u001b[0m\u001b[0;34m,\u001b[0m \u001b[0mfps_tf\u001b[0m\u001b[0;34m)\u001b[0m\u001b[0;34m:\u001b[0m\u001b[0;34m\u001b[0m\u001b[0;34m\u001b[0m\u001b[0m\n\u001b[1;32m     12\u001b[0m         \u001b[0mprint\u001b[0m\u001b[0;34m(\u001b[0m\u001b[0mfps_tf\u001b[0m\u001b[0;34m)\u001b[0m\u001b[0;34m\u001b[0m\u001b[0;34m\u001b[0m\u001b[0m\n\u001b[0;32m---> 13\u001b[0;31m         \u001b[0mstats\u001b[0m\u001b[0;34m[\u001b[0m\u001b[0;34m'FPS_TF'\u001b[0m\u001b[0;34m]\u001b[0m \u001b[0;34m=\u001b[0m \u001b[0mstr\u001b[0m\u001b[0;34m(\u001b[0m\u001b[0mfps_tf\u001b[0m\u001b[0;34m.\u001b[0m\u001b[0msplit\u001b[0m\u001b[0;34m(\u001b[0m\u001b[0;34m\" \"\u001b[0m\u001b[0;34m)\u001b[0m\u001b[0;34m[\u001b[0m\u001b[0;36m1\u001b[0m\u001b[0;34m]\u001b[0m\u001b[0;34m)\u001b[0m\u001b[0;34m\u001b[0m\u001b[0;34m\u001b[0m\u001b[0m\n\u001b[0m\u001b[1;32m     14\u001b[0m     \u001b[0;32mif\u001b[0m \u001b[0mre\u001b[0m\u001b[0;34m.\u001b[0m\u001b[0msearch\u001b[0m\u001b[0;34m(\u001b[0m\u001b[0;34m'Inference time'\u001b[0m\u001b[0;34m,\u001b[0m \u001b[0mfps_tf\u001b[0m\u001b[0;34m)\u001b[0m\u001b[0;34m:\u001b[0m\u001b[0;34m\u001b[0m\u001b[0;34m\u001b[0m\u001b[0m\n\u001b[1;32m     15\u001b[0m         \u001b[0mprint\u001b[0m\u001b[0;34m(\u001b[0m\u001b[0mfps_tf\u001b[0m\u001b[0;34m)\u001b[0m\u001b[0;34m\u001b[0m\u001b[0;34m\u001b[0m\u001b[0m\n",
      "\u001b[0;31mNameError\u001b[0m: name 'stats' is not defined"
     ]
    }
   ],
   "source": [
    "job_id_tf = job_id_tf_core[0].split('.')[0]\n",
    "job_id_tf = 'o'+job_id_tf\n",
    "count = 0\n",
    "while not os.path.exists('./classify_core_tf.{}'.format(job_id_tf)):  # Wait until the stats file is created.\n",
    "    time.sleep(1)\n",
    "    count = count + 1\n",
    "    assert count != 180, \"Job did not finish\" #Wait to for 3 mins to check if job gets done, and break from the infinite loop\n",
    "x_tf = open(\"./classify_core_tf.{}\".format(job_id_tf), \"r\")\n",
    "import re\n",
    "for fps_tf in x_tf:\n",
    "    if re.search('FPS', fps_tf):\n",
    "        print(fps_tf)\n",
    "        stats['FPS_TF'] = str(fps_tf.split(\" \")[1])\n",
    "    if re.search('Inference time', fps_tf):\n",
    "        print(fps_tf)\n",
    "        stats['Time_TF'] = str(fps_tf.split(\" \")[2])\n",
    "# print(stats)"
   ]
  },
  {
   "cell_type": "code",
   "execution_count": null,
   "id": "174cb17d-4456-4393-aa8c-7d0319ca0c7e",
   "metadata": {},
   "outputs": [],
   "source": [
    "!accuracy_check -c resnet50-accuracy-check.yml -m ./models/resnet_50/FP16/ -s ./inference_images/ -a ./annotations/"
   ]
  },
  {
   "cell_type": "code",
   "execution_count": null,
   "id": "ed42f03e-69a3-43d3-8d28-c0be670b9a8b",
   "metadata": {},
   "outputs": [],
   "source": [
    "stats_fps = {key: stats[key] for key in stats.keys()\n",
    "                               & {'FPS_OV', 'FPS_TF'}}\n",
    "print(stats_fps)\n",
    "stats_time = {key: stats[key] for key in stats.keys()\n",
    "                               & {'Time_OV', 'Time_TF'}}\n",
    "print(stats_time)"
   ]
  },
  {
   "cell_type": "code",
   "execution_count": null,
   "id": "c41130cf-e3f2-48aa-a371-dc4a268c9ce1",
   "metadata": {},
   "outputs": [],
   "source": [
    "import matplotlib.pyplot as plt\n",
    "import json\n",
    "\n",
    "x = ['Intel-core,i5-12500te']\n",
    "xAxis_ov = [key for key, value in stats_ov.items()]\n",
    "yAxis_ov = [value for key, value in stats_ov.items()]\n",
    "\n",
    "fig = plt.figure()\n",
    "plt.bar(xAxis_ov,yAxis_ov, color='blue')\n",
    "plt.xlabel('variable')\n",
    "plt.ylabel('value')"
   ]
  }
 ],
 "metadata": {
  "kernelspec": {
   "display_name": "Python3 (OpenVINO 2022.1)",
   "language": "python",
   "name": "openvino_2022.1.0"
  },
  "language_info": {
   "codemirror_mode": {
    "name": "ipython",
    "version": 3
   },
   "file_extension": ".py",
   "mimetype": "text/x-python",
   "name": "python",
   "nbconvert_exporter": "python",
   "pygments_lexer": "ipython3",
   "version": "3.6.9"
  }
 },
 "nbformat": 4,
 "nbformat_minor": 5
}
