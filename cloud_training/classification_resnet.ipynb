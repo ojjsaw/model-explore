{
 "cells": [
  {
   "cell_type": "code",
   "execution_count": 1,
   "id": "9c1047c7-2d82-48ad-8e34-ea9b496b3469",
   "metadata": {},
   "outputs": [],
   "source": [
    "import matplotlib.pyplot as plt\n",
    "import os\n",
    "import time\n",
    "import sys"
   ]
  },
  {
   "cell_type": "code",
   "execution_count": null,
   "id": "3d014c5b-c601-4cd1-85d1-ac67eafa0ef6",
   "metadata": {},
   "outputs": [],
   "source": [
    "!mo --saved_model_dir ./000000001/ --data_type FP32 --output_dir models/resnet_50/FP32 --input_shape [1,180,180,3]"
   ]
  },
  {
   "cell_type": "code",
   "execution_count": null,
   "id": "d0ca6be4-1961-43c5-9358-f8a801df41e7",
   "metadata": {},
   "outputs": [],
   "source": [
    "!mo --saved_model_dir ./000000001/ --data_type FP16 --output_dir models/resnet_50/FP16 --input_shape [1,180,180,3]"
   ]
  },
  {
   "cell_type": "code",
   "execution_count": 2,
   "id": "36dadd2d-8c7b-4a92-be9f-cb442a25d3da",
   "metadata": {},
   "outputs": [
    {
     "name": "stdout",
     "output_type": "stream",
     "text": [
      "Overwriting ov_classification_job.sh\n"
     ]
    }
   ],
   "source": [
    "%%writefile ov_classification_job.sh\n",
    "\n",
    "OUTPUT_FILE=$1\n",
    "DEVICE=$2\n",
    "FP_MODEL=$3\n",
    "INPUT_PATH=$4\n",
    "NUM_REQS=5$5\n",
    "\n",
    "echo VENV_PATH=$VENV_PATH\n",
    "echo OPENVINO_RUNTIME=$OPENVINO_RUNTIME\n",
    "echo INPUT_FILE=$INPUT_FILE\n",
    "echo FP_MODEL=$FP_MODEL\n",
    "echo INPUT_TILE=$INPUT_FILE\n",
    "echo NUM_REQS=$NUM_REQS\n",
    "\n",
    "# Follow this order of setting up environment for openVINO 2022.1.0.553\n",
    "echo \"Activating a Python virtual environment from ${VENV_PATH}...\"\n",
    "source ${VENV_PATH}/bin/activate\n",
    "echo \"Activating OpenVINO variables from ${OPENVINO_RUNTIME}...\"\n",
    "source ${OPENVINO_RUNTIME}/setupvars.sh\n",
    "\n",
    "# The default path for the job is the user's home directory,\n",
    "#  change directory to where the files are.\n",
    "cd $PBS_O_WORKDIR\n",
    "\n",
    "# Make sure that the output directory exists.\n",
    "mkdir -p $OUTPUT_FILE\n",
    "\n",
    "# Set inference model IR files using specified precision\n",
    "MODELPATH=./models/resnet_50/${FP_MODEL}/saved_model.xml\n",
    "LABEL_FILE=./model_classes.txt\n",
    "INPUT_PATH=./inferece_images/\n",
    "\n",
    "\n",
    "python3 classification_demo.py -i $INPUT_PATH -m $MODELPATH -o $OUTPUT_FILE --labels $LABEL_FILE -nireq $NUM_REQS\n",
    "\n",
    "\n",
    "\n",
    "# python3 classification_demo.py -m <path_to_classification_model> \\\n",
    "#                                -i <path_to_folder_with_images> \\\n",
    "#                                 --labels <path_to_file_with_list_of_labels>"
   ]
  },
  {
   "cell_type": "code",
   "execution_count": 3,
   "id": "a9d4fc4b-8f5f-498c-9509-e919cace9999",
   "metadata": {},
   "outputs": [
    {
     "name": "stdout",
     "output_type": "stream",
     "text": [
      "Overwriting ov_classify_job.sh\n"
     ]
    }
   ],
   "source": [
    "%%writefile ov_classify_job.sh\n",
    "\n",
    "OUTPUT_FILE=$1\n",
    "\n",
    "# Follow this order of setting up environment for openVINO 2022.1.0.553\n",
    "echo \"Activating a Python virtual environment from ${VENV_PATH}...\"\n",
    "source ${VENV_PATH}/bin/activate\n",
    "echo \"Activating OpenVINO variables from ${OPENVINO_RUNTIME}...\"\n",
    "source ${OPENVINO_RUNTIME}/setupvars.sh\n",
    "\n",
    "# The default path for the job is the user's home directory,\n",
    "#  change directory to where the files are.\n",
    "cd $PBS_O_WORKDIR\n",
    "\n",
    "python3 ov-classify.py"
   ]
  },
  {
   "cell_type": "code",
   "execution_count": 12,
   "id": "a7a0967c-b81d-4dcb-aec7-38d8e0a2eb35",
   "metadata": {},
   "outputs": [
    {
     "name": "stdout",
     "output_type": "stream",
     "text": [
      "Overwriting tf_classify_job.sh\n"
     ]
    }
   ],
   "source": [
    "%%writefile tf_classify_job.sh\n",
    "\n",
    "OUTPUT_FILE=$1\n",
    "\n",
    "# Follow this order of setting up environment for openVINO 2022.1.0.553\n",
    "echo \"Activating a Python virtual environment from ${VENV_PATH}...\"\n",
    "source ${VENV_PATH}/bin/activate\n",
    "echo \"Activating OpenVINO variables from ${OPENVINO_RUNTIME}...\"\n",
    "source ${OPENVINO_RUNTIME}/setupvars.sh\n",
    "\n",
    "# The default path for the job is the user's home directory,\n",
    "#  change directory to where the files are.\n",
    "cd $PBS_O_WORKDIR\n",
    "\n",
    "python3 tf-classify.py"
   ]
  },
  {
   "cell_type": "code",
   "execution_count": 5,
   "id": "e11126d8-4eab-4b69-889c-bd5dc6002f52",
   "metadata": {},
   "outputs": [
    {
     "name": "stdout",
     "output_type": "stream",
     "text": [
      "     15 idc001skl,compnode,openvino-latest,intel-core,i5-6500te,intel-hd-530,ram8gb\n",
      "     14 idc002mx8,compnode,openvino-latest,intel-core,i5-6500te,intel-hd-530,ram8gb,myriadx-8-vpu\n",
      "     11 idc004nc2,compnode,openvino-latest,intel-core,i5-6500te,intel-hd-530,ram8gb,myriadx-1-vpu\n",
      "      5 idc006kbl,compnode,openvino-latest,intel-core,i5-7500t,intel-hd-630,ram8gb\n",
      "      6 idc007xv5,compnode,openvino-latest,intel-xeon,e3-1268l-v5,intel-hd-p530,ram32gb\n",
      "      5 idc008u2g,compnode,openvino-latest,intel-atom,e3950,intel-hd-505,ram4gb,myriadx-1-vpu\n",
      "      1 idc009jkl,compnode,openvino-latest,intel-core,i5-7500,intel-hd-630,ram8gb\n",
      "      1 idc010jal,compnode,openvino-latest,intel-celeron,j3355,intel-hd-500,ram4gb\n",
      "      1 idc011ark2250s,compnode,openvino-latest,intel-core,i5-6442eq,intel-hd-530,ram8gb,myriadx-3-vpu\n",
      "      1 idc012ark1220l,compnode,openvino-latest,intel-atom,e3940,intel-hd-500,ram4gb,myriadx-2-vpu\n",
      "      1 idc013ds580,compnode,openvino-latest,intel-atom,e3950,intel-hd-505,ram2gb\n",
      "      4 idc014,compnode,openvino-latest,intel-core,i7-8665ue,intel-uhd-620,ram16gb,myriadx-2-vpu\n",
      "      3 idc015ai5,compnode,openvino-latest,intel-core,i5-8365ue,intel-uhd-620,ram8gb\n",
      "      2 idc016ai7,compnode,openvino-latest,intel-core,i7-8665ue,intel-uhd-620,ram16gb\n",
      "      1 idc017,compnode,openvino-latest,intel-xeon,gold5220r,no-gpu,ram96gb\n",
      "      1 idc018,compnode,openvino-latest,intel-xeon,gold6258r,no-gpu,ram96gb\n",
      "      2 idc021,compnode,openvino-latest,intel-xeon,silver4214r,no-gpu,ram48gb\n",
      "     10 idc022,compnode,openvino-latest,intel-core,i7-10710u,intel-uhd-620,ram16gb\n",
      "      6 idc023,compnode,openvino-latest,intel-core,i5-8365ue,intel-uhd-620,ram8gb,myriadx-2-vpu\n",
      "      1 idc024,compnode,openvino-latest,intel-xeon,gold5220r,no-gpu,ram96gb,myriadx-8-vpu\n",
      "      1 idc026,compnode,openvino-latest,intel-xeon,bronze3206r,no-gpu,ram48gb,myriadx-8-vpu\n",
      "      1 idc027,compnode,openvino-latest,intel-xeon,silver4214r,no-gpu,ram48gb,myriadx-8-vpu\n",
      "      1 idc029,compnode,openvino-latest,intel-core,i7-8665u,intel-uhd-620,ram32gb\n",
      "      1 idc030,compnode,openvino-latest,intel-core,i7-1065g7,iris-plus,ram16gb\n",
      "      1 idc031,compnode,openvino-latest,intel-xeon,e-2286m,intel-uhd-p630,ram32gb,myriadx-8-vpu\n",
      "     14 idc033,compnode,openvino-latest,intel-xeon,e-2286m,intel-uhd-p630,ram32gb\n",
      "      5 idc036,compnode,openvino-latest,intel-core,i9-10900t,intel-uhd-630,ram32gb\n",
      "      5 idc037,compnode,openvino-latest,intel-core,i7-10700t,intel-uhd-630,ram32gb\n",
      "      5 idc038,compnode,openvino-latest,intel-core,i5-8365ue,intel-uhd-620,ram8gb,myriadx-2-vpu\n",
      "      1 idc042,compnode,openvino-latest,intel-core,i5-8500t,intel-uhd-630,ram32gb,myriadx-8-vpu,aaeon,boxer-6842m\n",
      "      1 idc043,compnode,openvino-latest,intel-core,i3-10100te,intel-uhd-630,ram16gb,myriadx-2-vpu,aaeon,genesys-cml5ai\n",
      "      1 idc044,compnode,openvino-latest,intel-atom,intel,atom,e3950,intel-uhd-630,ram8gb,myriadx-1-vpu\n",
      "      5 idc045,compnode,openvino-latest,intel-core,i7-1185g7e,iris-xe-graphics,ram16gb,none\n",
      "      2 idc046,compnode,openvino-latest,intel-core,i5-1145g7e,iris-xe-graphics,ram16gb\n",
      "      1 idc051,compnode,openvino-latest,intel-xeon,gold6314u,none,ram128gb,none,icelake\n",
      "      5 idc052,compnode,openvino-latest,intel-xeon,gold6338n,none,ram128gb,none,icelake\n",
      "      2 idc053,compnode,openvino-latest,intel-xeon,d-2166nt,none,128gb,none\n",
      "      1 idc054,compnode,openvino-latest,intel-core,i7-1165g7,iris-xe-graphics,ram16gb,none\n",
      "      1 idc055,compnode,openvino-latest,intel-core,i5-1145g7e,iris-xe-graphics,ram8gb,none\n",
      "      1 idc056,compnode,openvino-latest,intel-core,i3-1115g4e,intel-uhd-11th-gen,ram8gb,none\n",
      "      1 idc057,compnode,openvino-latest,intel-core,i5-7500t,intel-hd-630,ram8gb,myriadx-1-vpu\n",
      "      2 idc058,compnode,openvino-latest,intel-core,i5-8265u,intel-uhd-8th-gen,ram8gb,none\n",
      "      1 idc060,compnode,openvino-latest,intel-core,i5-8500,intel-uhd-p630,ram16gb,none\n",
      "      1 idc061,compnode,openvino-latest,intel-xeon,e-2176g,intel-uhd-p630,ram16gb,none\n",
      "      1 idc062,compnode,openvino-latest,intel-celeron,6305e,intel-uhd-graphics,ram16gb,none\n",
      "      5 idc063,compnode,openvino-latest,intel-core,xeon,w-1290te,intel-uhd-630,ram16gb,none\n",
      "      2 idc065,compnode,openvino-latest,intel-core,i7-8565u,intel-uhd-8th-gen,ram8gb,none\n",
      "      1 idc066,compnode,openvino-latest,intel-core,i3-8145u,intel-uhd-8th-gen,ram4gb,none\n",
      "      1 idc068,compnode,openvino-latest,intel-core,i7-1185g7e,iris-xe-graphics,ram16gb,none\n",
      "      1 idc069,compnode,openvino-latest,intel-core,i5-1135g7,iris-xe-graphics,ram8gb,none\n",
      "     10 idc070,compnode,openvino-latest,intel-pentium,j6426,intel-uhd-10th-gen,ram4gb,none\n",
      "     10 idc071,compnode,openvino-latest,intel-atom,x6425re,intel-uhd-10th-gen,ram16gb,none\n",
      "      1 idc072,compnode,openvino-latest,intel-core,i7-12700te,intel-uhd-770,ram16gb\n",
      "      2 idc073,compnode,openvino-latest,intel-core,i5-12500te,intel-uhd-770,ram16gb\n"
     ]
    }
   ],
   "source": [
    "!pbsnodes | grep compnode | awk '{print $3}' | sort | uniq -c"
   ]
  },
  {
   "cell_type": "code",
   "execution_count": 6,
   "id": "ae3b4836-a65b-4cf2-bd20-9ba644d75f4c",
   "metadata": {},
   "outputs": [],
   "source": [
    "# job_id_core = !qsub ov_classification_job.sh -l nodes=1:idc073 -F \"./results/core/ CPU FP32 0.4\" -N classification_core -v VENV_PATH,OPENVINO_RUNTIME\n",
    "# print(job_id_core[0])"
   ]
  },
  {
   "cell_type": "code",
   "execution_count": 7,
   "id": "e56e4fe4-caa3-4cd5-b6ff-22d993c1e719",
   "metadata": {},
   "outputs": [
    {
     "name": "stdout",
     "output_type": "stream",
     "text": [
      "529864.v-qsvr-1.devcloud-edge\n"
     ]
    }
   ],
   "source": [
    "job_id_ov_core = !qsub ov_classify_job.sh -l nodes=1:idc073 -F \"./results/core_ov/\" -N classify_core_ov -v VENV_PATH,OPENVINO_RUNTIME\n",
    "print(job_id_ov_core[0])"
   ]
  },
  {
   "cell_type": "code",
   "execution_count": 17,
   "id": "9f8528cc-b1c3-4b35-a9eb-fac5ae6102b9",
   "metadata": {},
   "outputs": [
    {
     "name": "stdout",
     "output_type": "stream",
     "text": [
      "529869.v-qsvr-1.devcloud-edge\n"
     ]
    }
   ],
   "source": [
    "job_id_tf_core = !qsub tf_classify_job.sh -l nodes=1:idc073 -F \"./results/core_tf/\" -N classify_core_tf -v VENV_PATH,OPENVINO_RUNTIME\n",
    "print(job_id_tf_core[0])"
   ]
  },
  {
   "cell_type": "code",
   "execution_count": 18,
   "id": "3eb169fe-9c36-4af7-9a31-aed540b85484",
   "metadata": {},
   "outputs": [
    {
     "data": {
      "application/vnd.jupyter.widget-view+json": {
       "model_id": "680860d682ba4d4f8e7e17a5583c7e8f",
       "version_major": 2,
       "version_minor": 0
      },
      "text/plain": [
       "Output(layout=Layout(border='1px solid gray', height='200px', overflow_y='auto', width='100%'))"
      ]
     },
     "metadata": {},
     "output_type": "display_data"
    },
    {
     "data": {
      "application/vnd.jupyter.widget-view+json": {
       "model_id": "0b7cb7ed2eba455088f39e537ec61e8e",
       "version_major": 2,
       "version_minor": 0
      },
      "text/plain": [
       "Button(description='Stop', style=ButtonStyle())"
      ]
     },
     "metadata": {},
     "output_type": "display_data"
    }
   ],
   "source": [
    "from qarpo.demoutils import *\n",
    "liveQstat()"
   ]
  },
  {
   "cell_type": "code",
   "execution_count": 45,
   "id": "810d2471-f152-4e6f-864f-2d080fba4b6a",
   "metadata": {},
   "outputs": [
    {
     "name": "stdout",
     "output_type": "stream",
     "text": [
      "FPS: 54.55 \n",
      "\n",
      "Inference time: 18.33 ms\n",
      "\n"
     ]
    }
   ],
   "source": [
    "job_id_ov = job_id_ov_core[0].split('.')[0]\n",
    "job_id_ov = 'o'+job_id_ov\n",
    "count = 0\n",
    "while not os.path.exists('./classify_core_ov.{}'.format(job_id_ov)):  # Wait until the stats file is created.\n",
    "    time.sleep(1)\n",
    "    count = count + 1\n",
    "    assert count != 180, \"Job did not finish\" #Wait to for 3 mins to check if job gets done, and break from the infinite loop\n",
    "x_ov = open(\"./classify_core_ov.{}\".format(job_id_ov), \"r\")\n",
    "import re\n",
    "stats = {}\n",
    "for fps_ov in x_ov:\n",
    "    if re.search('FPS', fps_ov):\n",
    "        print(fps_ov)\n",
    "        stats['FPS_OV'] = str(fps_ov.split(\" \")[1])\n",
    "    if re.search('Inference time', fps_ov):\n",
    "        print(fps_ov)\n",
    "        stats['Time_OV'] = str(fps_ov.split(\" \")[2])\n",
    "# print(stats)"
   ]
  },
  {
   "cell_type": "code",
   "execution_count": 46,
   "id": "3028d869-6c1e-4c29-a72a-bae2a0f95937",
   "metadata": {},
   "outputs": [
    {
     "name": "stdout",
     "output_type": "stream",
     "text": [
      "FPS: 35.28 fps\n",
      "\n",
      "Inference time: 28.35 ms\n",
      "\n"
     ]
    }
   ],
   "source": [
    "job_id_tf = job_id_tf_core[0].split('.')[0]\n",
    "job_id_tf = 'o'+job_id_tf\n",
    "count = 0\n",
    "while not os.path.exists('./classify_core_tf.{}'.format(job_id_tf)):  # Wait until the stats file is created.\n",
    "    time.sleep(1)\n",
    "    count = count + 1\n",
    "    assert count != 180, \"Job did not finish\" #Wait to for 3 mins to check if job gets done, and break from the infinite loop\n",
    "x_tf = open(\"./classify_core_tf.{}\".format(job_id_tf), \"r\")\n",
    "import re\n",
    "for fps_tf in x_tf:\n",
    "    if re.search('FPS', fps_tf):\n",
    "        print(fps_tf)\n",
    "        stats['FPS_TF'] = str(fps_tf.split(\" \")[1])\n",
    "    if re.search('Inference time', fps_tf):\n",
    "        print(fps_tf)\n",
    "        stats['Time_TF'] = str(fps_tf.split(\" \")[2])\n",
    "# print(stats)"
   ]
  },
  {
   "cell_type": "code",
   "execution_count": 44,
   "id": "ed42f03e-69a3-43d3-8d28-c0be670b9a8b",
   "metadata": {},
   "outputs": [
    {
     "name": "stdout",
     "output_type": "stream",
     "text": [
      "{'FPS_TF': '35.28', 'FPS_OV': '54.55'}\n",
      "{'Time_TF': '28.35', 'Time_OV': '18.33'}\n"
     ]
    }
   ],
   "source": [
    "stats_fps = {key: stats[key] for key in stats.keys()\n",
    "                               & {'FPS_OV', 'FPS_TF'}}\n",
    "print(stats_fps)\n",
    "stats_time = {key: stats[key] for key in stats.keys()\n",
    "                               & {'Time_OV', 'Time_TF'}}\n",
    "print(stats_time)"
   ]
  },
  {
   "cell_type": "code",
   "execution_count": null,
   "id": "c41130cf-e3f2-48aa-a371-dc4a268c9ce1",
   "metadata": {},
   "outputs": [],
   "source": [
    "import matplotlib.pyplot as plt\n",
    "import json\n",
    "\n",
    "x = ['Intel-core,i5-12500te']\n",
    "xAxis_ov = [key for key, value in stats_ov.items()]\n",
    "yAxis_ov = [value for key, value in stats_ov.items()]\n",
    "\n",
    "fig = plt.figure()\n",
    "plt.bar(xAxis_ov,yAxis_ov, color='blue')\n",
    "plt.xlabel('variable')\n",
    "plt.ylabel('value')"
   ]
  }
 ],
 "metadata": {
  "kernelspec": {
   "display_name": "Python3 (OpenVINO 2022.1)",
   "language": "python",
   "name": "openvino_2022.1.0"
  },
  "language_info": {
   "codemirror_mode": {
    "name": "ipython",
    "version": 3
   },
   "file_extension": ".py",
   "mimetype": "text/x-python",
   "name": "python",
   "nbconvert_exporter": "python",
   "pygments_lexer": "ipython3",
   "version": "3.6.9"
  }
 },
 "nbformat": 4,
 "nbformat_minor": 5
}
