{
 "cells": [
  {
   "cell_type": "code",
   "execution_count": 1,
   "id": "6819b8c0-2b45-4fe5-b86a-9769ad46beb7",
   "metadata": {},
   "outputs": [],
   "source": [
    "import matplotlib.pyplot as plt\n",
    "import os\n",
    "import time\n",
    "import sys"
   ]
  },
  {
   "cell_type": "code",
   "execution_count": null,
   "id": "9f0af566-4fca-46d5-933a-27890835a9d6",
   "metadata": {},
   "outputs": [],
   "source": [
    "!mo --saved_model_dir ./000000001/ --data_type FP32 --output_dir models/resnet_50/FP32 --input_shape [1,180,180,3]"
   ]
  },
  {
   "cell_type": "code",
   "execution_count": null,
   "id": "7efad1f9-db9b-4261-8ab7-bd04708794ee",
   "metadata": {
    "tags": []
   },
   "outputs": [],
   "source": [
    "!mo --saved_model_dir ./000000001/ --data_type FP16 --output_dir models/resnet_50/FP16 --input_shape [1,180,180,3]"
   ]
  },
  {
   "cell_type": "code",
   "execution_count": 2,
   "id": "67b9b765-0425-4fce-a823-ee67d75b2065",
   "metadata": {},
   "outputs": [
    {
     "name": "stdout",
     "output_type": "stream",
     "text": [
      "Overwriting ov_classify_job.sh\n"
     ]
    }
   ],
   "source": [
    "%%writefile ov_classify_job.sh\n",
    "\n",
    "INPUT=$1\n",
    "FP_MODEL=$2\n",
    "DEVICE=$3\n",
    "OUTPUT=$4\n",
    "\n",
    "# Follow this order of setting up environment for openVINO 2022.1.0.553\n",
    "echo \"Activating a Python virtual environment from ${VENV_PATH}...\"\n",
    "source ${VENV_PATH}/bin/activate\n",
    "echo \"Activating OpenVINO variables from ${OPENVINO_RUNTIME}...\"\n",
    "source ${OPENVINO_RUNTIME}/setupvars.sh\n",
    "\n",
    "# The default path for the job is the user's home directory,\n",
    "#  change directory to where the files are.\n",
    "cd $PBS_O_WORKDIR\n",
    "\n",
    "MODELPATH=./models/resnet_50/${FP_MODEL}/saved_model.xml\n",
    "\n",
    "python3 ov-classify.py -i $INPUT -m $MODELPATH -d $DEVICE -o $OUTPUT"
   ]
  },
  {
   "cell_type": "code",
   "execution_count": 3,
   "id": "69fd3201-c7af-47f3-9d0d-f3fcbbc137c9",
   "metadata": {},
   "outputs": [
    {
     "name": "stdout",
     "output_type": "stream",
     "text": [
      "Overwriting tf_classify_job.sh\n"
     ]
    }
   ],
   "source": [
    "%%writefile tf_classify_job.sh\n",
    "\n",
    "INPUT=$1\n",
    "OUTPUT=$2\n",
    "    \n",
    "\n",
    "# Follow this order of setting up environment for openVINO 2022.1.0.553\n",
    "echo \"Activating a Python virtual environment from ${VENV_PATH}...\"\n",
    "source ${VENV_PATH}/bin/activate\n",
    "echo \"Activating OpenVINO variables from ${OPENVINO_RUNTIME}...\"\n",
    "source ${OPENVINO_RUNTIME}/setupvars.sh\n",
    "\n",
    "# The default path for the job is the user's home directory,\n",
    "#  change directory to where the files are.\n",
    "cd $PBS_O_WORKDIR\n",
    "\n",
    "\n",
    "python3 tf-classify.py -i $INPUT -o $OUTPUT"
   ]
  },
  {
   "cell_type": "code",
   "execution_count": 4,
   "id": "419b6f08-3412-4425-9add-b3df11b8a421",
   "metadata": {},
   "outputs": [
    {
     "name": "stdout",
     "output_type": "stream",
     "text": [
      "      1 idc001skl,compnode,openvino-lts,intel-core,i5-6500te,intel-hd-530,ram8gb\n",
      "      1 idc002mx8,compnode,openvino-latest,intel-core,i5-6500te,intel-hd-530,ram8gb,myriadx-8-vpu\n",
      "      1 idc004nc2,compnode,openvino-latest,intel-core,i5-6500te,intel-hd-530,ram8gb,myriadx-1-vpu\n",
      "      1 idc006kbl,compnode,openvino-latest,intel-core,i5-7500t,intel-hd-630,ram8gb\n",
      "      1 idc007xv5,compnode,openvino-latest,intel-xeon,e3-1268l-v5,intel-hd-p530,ram32gb\n",
      "      1 idc008u2g,compnode,openvino-latest,intel-atom,e3950,intel-hd-505,ram4gb,myriadx-1-vpu\n",
      "      1 idc014,compnode,openvino-latest,intel-core,i7-8665ue,intel-uhd-620,ram16gb,myriadx-2-vpu\n",
      "      1 idc016ai7,compnode,openvino-latest,intel-core,i7-8665ue,intel-uhd-620,ram16gb\n",
      "      1 idc025,compnode,openvino-latest,intel-xeon,gold6258r,no-gpu,ram96gb,myriadx-8-vpu\n",
      "      3 idc034,compnode,openvino-latest,intel-core,i7-7700,intel-hd-630,ram16gb,kmb\n",
      "      2 idc039,compnode,openvino-latest,intel-xeon,platinum-8180,no-gpu,ram196gb\n",
      "      2 idc040,compnode,openvino-latest,intel-xeon,e-2124,no-gpu,ram65gb\n",
      "      1 idc041,compnode,openvino-latest,intel-xeon,gold6258r,no-gpu,ram263gb\n",
      "      5 idc059,compnode,openvino-latest,intel-core,i7-1185gre,iris-xe-graphics,ram16gb,none\n",
      "      1 idc064,compnode,openvino-latest,intel-core,i7-1185gre,iris-xe-graphics,ram4gb,none\n",
      "      1 idc072,compnode,openvino-latest,intel-core,i7-12700te,intel-uhd-770,ram16gb\n",
      "      1 idc073,compnode,openvino-latest,intel-core,i5-12500te,intel-uhd-770,ram16gb\n",
      "      1 idc074,compnode,openvino-latest,intel-core,i9-11900kb,intel-uhd-11th-gen,ram32gb\n",
      "      1 idc075,compnode,openvino-latest,intel-core,i7-11700b,intel-uhd-11th-gen,ram32gb\n",
      "      1 idc076,compnode,openvino-latest,intel-core,i9-11900t,intel-uhd-750,ram32gb\n",
      "      1 idc079,compnode,openvino-latest,intel-xeon,d-2796nt,ram65gb\n",
      "      1 idc080,compnode,openvino-latest,intel-xeon,d-2712t,ram65gb\n",
      "      1 idc081,compnode,openvino-latest,intel-xeon,d-2712t,ram256gb\n"
     ]
    }
   ],
   "source": [
    "!pbsnodes | grep compnode | awk '{print $3}' | sort | uniq -c"
   ]
  },
  {
   "cell_type": "code",
   "execution_count": null,
   "id": "2b53a02f-ebef-41f3-a083-897018073e5f",
   "metadata": {},
   "outputs": [],
   "source": [
    "!rm -rf results\n",
    "# main_dir = 'test_images/'\n",
    "# import os\n",
    "# all_classes_folders = []\n",
    "# classes = []\n",
    "# all_test_images =[]\n",
    "# for all_classes in os.listdir(main_dir):\n",
    "#     all_classes_folders.append(all_classes)\n",
    "#     for classes in os.listdir(main_dir+all_classes):\n",
    "#         all_test_images.append(main_dir+all_classes+'/'+classes)\n",
    "# print(all_test_images)"
   ]
  },
  {
   "cell_type": "markdown",
   "id": "c602f42c-6012-4ba2-a9b5-e69270b10b02",
   "metadata": {
    "tags": []
   },
   "source": [
    "## CPU"
   ]
  },
  {
   "cell_type": "markdown",
   "id": "fa055779-51af-4af7-8824-b9785098ef65",
   "metadata": {},
   "source": [
    "### OpenVINO FP32"
   ]
  },
  {
   "cell_type": "code",
   "execution_count": null,
   "id": "18a7a50a-d8ca-4049-8cf8-837f12c82691",
   "metadata": {},
   "outputs": [],
   "source": [
    "job_id_cpu_ov_fp32 = !qsub ov_classify_job.sh -l nodes=1:idc073 -F \"test_images/ FP32 CPU ./results/classify_cpu_ov_fp32/\" -N classify_cpu_ov_fp32 -v VENV_PATH,OPENVINO_RUNTIME\n",
    "print(job_id_cpu_ov_fp32[0])"
   ]
  },
  {
   "cell_type": "markdown",
   "id": "1db95002-dc35-43a2-9c9f-510bf1930e10",
   "metadata": {},
   "source": [
    "### Tensorflow FP32"
   ]
  },
  {
   "cell_type": "code",
   "execution_count": 5,
   "id": "f7259397-3d35-42d4-a592-9d02fe26c10e",
   "metadata": {},
   "outputs": [
    {
     "name": "stdout",
     "output_type": "stream",
     "text": [
      "48305.v-qsvr-sb1.devcloud-edge\n"
     ]
    }
   ],
   "source": [
    "job_id_cpu_tf_fp32 = !qsub tf_classify_job.sh -l nodes=1:idc073 -F \"test_images/ ./results/classify_cpu_tf_fp32/\" -N classify_cpu_tf_fp32 -v VENV_PATH,OPENVINO_RUNTIME\n",
    "print(job_id_cpu_tf_fp32[0])"
   ]
  },
  {
   "cell_type": "markdown",
   "id": "c6550fcd-f0f6-4352-b4a2-322d280852d0",
   "metadata": {},
   "source": [
    "## GPU"
   ]
  },
  {
   "cell_type": "markdown",
   "id": "065ed76a-2caf-494c-931c-fa735a2141fe",
   "metadata": {},
   "source": [
    "### OpenVINO FP32"
   ]
  },
  {
   "cell_type": "code",
   "execution_count": null,
   "id": "17b2e356-6223-426f-bf04-0bf2c19b48ae",
   "metadata": {},
   "outputs": [],
   "source": [
    "job_id_gpu_ov_fp32 = !qsub ov_classify_job.sh -l nodes=1:idc073 -F \"./test_images/glacier/60.jpg FP32 GPU ./results/classify_gpu_ov_fp32/ \" -N classify_gpu_ov_fp32 -v VENV_PATH,OPENVINO_RUNTIME\n",
    "print(job_id_gpu_ov_fp32[0])"
   ]
  },
  {
   "cell_type": "markdown",
   "id": "1f231dff-59d3-4bc3-ad61-b1ed34b29f54",
   "metadata": {},
   "source": [
    "### OpenVINO FP16"
   ]
  },
  {
   "cell_type": "code",
   "execution_count": null,
   "id": "c1bc1e8b-ad25-488e-8e21-22375a3ff2d2",
   "metadata": {},
   "outputs": [],
   "source": [
    "job_id_gpu_ov_fp16 = !qsub ov_classify_job.sh -l nodes=1:idc073 -F \"./test_images/glacier/60.jpg FP16 GPU ./results/classify_gpu_ov_fp16/ \" -N classify_gpu_ov_fp16 -v VENV_PATH,OPENVINO_RUNTIME\n",
    "print(job_id_gpu_ov_fp16[0])"
   ]
  },
  {
   "cell_type": "markdown",
   "id": "9de42026-612b-450e-9a78-32e80492cda9",
   "metadata": {},
   "source": [
    "### Monitor job status\n",
    "\n",
    "To check the status of the jobs that have been submitted, use the `qstat` command.  The custom Jupyter* Notebook widget `liveQstat()` is provided to display the output of `qstat` with live updates.  \n",
    "\n",
    "Run the following cell to display the current job status with periodic updates. \n",
    "You should see the jobs that you have submitted (referenced by the `JobID` that gets displayed right after you submit the jobs in the previous step).\n",
    "There should also be an extra job in the queue named `jupyterhub-singleuser`: this job is your current Jupyter* Notebook session which is always running.\n",
    "\n",
    "The `S` column shows the current status of each job: \n",
    "- If the status is `Q`, then the job is queued and waiting for available resources\n",
    "- If the status is `R`, then the job is running\n",
    "- If the job is no longer listed, then the job has completed\n",
    "\n",
    "<br><div class=note><i><b>\n",
    "Note: The amount of time spent in the queue depends on the number of users accessing the requested compute nodes. Once the jobs for this sample application begin to run, they should take from 1 to 5 minutes each to complete.\n",
    "</b></i></div>"
   ]
  },
  {
   "cell_type": "code",
   "execution_count": 6,
   "id": "9b0856bb-3e47-4731-be76-8b2cddd9052e",
   "metadata": {},
   "outputs": [
    {
     "data": {
      "application/vnd.jupyter.widget-view+json": {
       "model_id": "c61211257ef7454bb4935b13e8b5351d",
       "version_major": 2,
       "version_minor": 0
      },
      "text/plain": [
       "Output(layout=Layout(border='1px solid gray', height='200px', overflow_y='auto', width='100%'))"
      ]
     },
     "metadata": {},
     "output_type": "display_data"
    },
    {
     "data": {
      "application/vnd.jupyter.widget-view+json": {
       "model_id": "cbbda26108c94b9ba614c199e22bc0b5",
       "version_major": 2,
       "version_minor": 0
      },
      "text/plain": [
       "Button(description='Stop', style=ButtonStyle())"
      ]
     },
     "metadata": {},
     "output_type": "display_data"
    }
   ],
   "source": [
    "from qarpo.demoutils import *\n",
    "liveQstat()"
   ]
  },
  {
   "cell_type": "markdown",
   "id": "27efc2a9-4f32-4514-862b-f790c6fa845e",
   "metadata": {},
   "source": [
    "## CPU - OpenVINO FP32"
   ]
  },
  {
   "cell_type": "code",
   "execution_count": null,
   "id": "cd5a945a-0414-4488-ac07-f27e9f327998",
   "metadata": {},
   "outputs": [],
   "source": [
    "job_id_cpu_ov_fp32 = job_id_cpu_ov_fp32[0].split('.')[0]\n",
    "job_id_cpu_ov_fp32 = 'o'+job_id_cpu_ov_fp32\n",
    "count = 0\n",
    "while not os.path.exists('./classify_cpu_ov_fp32.{}'.format(job_id_cpu_ov_fp32)):  # Wait until the stats file is created.\n",
    "    time.sleep(1)\n",
    "    count = count + 1\n",
    "    assert count != 180, \"Job did not finish\" #Wait to for 3 mins to check if job gets done, and break from the infinite loop\n",
    "cpu_ov = open(\"./classify_cpu_ov_fp32.{}\".format(job_id_cpu_ov_fp32), \"r\")\n",
    "import re\n",
    "stats_cpu_ov = {}\n",
    "for fps_ov in cpu_ov:\n",
    "    if re.search('FPS', fps_ov):\n",
    "        print(fps_ov)\n",
    "        stats_cpu_ov['FPS_OV'] = str(fps_ov.split(\" \")[1])\n",
    "    if re.search('Inference time', fps_ov):\n",
    "        print(fps_ov)\n",
    "        stats_cpu_ov['Time_OV'] = str(fps_ov.split(\" \")[2])\n",
    "    if re.search('Prediction', fps_ov):\n",
    "        print(fps_ov)"
   ]
  },
  {
   "cell_type": "markdown",
   "id": "25a86b4a-c425-4830-ac66-b12d004b5e6d",
   "metadata": {},
   "source": [
    "## CPU - Tensorflow FP32"
   ]
  },
  {
   "cell_type": "code",
   "execution_count": null,
   "id": "ef5d1b1a-cbab-4a7b-ad0d-26f3d97a75e0",
   "metadata": {},
   "outputs": [],
   "source": [
    "job_id_cpu_tf_fp32 = job_id_cpu_tf_fp32[0].split('.')[0]\n",
    "job_id_cpu_tf_fp32 = 'o'+job_id_cpu_tf_fp32\n",
    "count = 0\n",
    "while not os.path.exists('./classify_cpu_tf_fp32.{}'.format(job_id_cpu_tf_fp32)):  # Wait until the stats file is created.\n",
    "    time.sleep(1)\n",
    "    count = count + 1\n",
    "    assert count != 180, \"Job did not finish\" #Wait to for 3 mins to check if job gets done, and break from the infinite loop\n",
    "cpu_tf = open(\"./classify_cpu_tf_fp32.{}\".format(job_id_cpu_tf_fp32), \"r\")\n",
    "import re\n",
    "stats_cpu_tf = {}\n",
    "for fps_tf in cpu_tf:\n",
    "    if re.search('FPS', fps_tf):\n",
    "        print(fps_tf)\n",
    "        stats_cpu_tf['FPS_TF'] = str(fps_tf.split(\" \")[1])\n",
    "    if re.search('Inference time', fps_tf):\n",
    "        print(fps_tf)\n",
    "        stats_cpu_tf['Time_TF'] = str(fps_tf.split(\" \")[2])\n",
    "    if re.search('Prediction', fps_tf):\n",
    "        print(fps_tf)"
   ]
  },
  {
   "cell_type": "markdown",
   "id": "f6a48e37-c8b2-4d3b-ab64-47950e402539",
   "metadata": {},
   "source": [
    "## GPU - OpenVINO FP32"
   ]
  },
  {
   "cell_type": "code",
   "execution_count": null,
   "id": "80ad90ae-4286-4e7a-a707-95b172b38d41",
   "metadata": {},
   "outputs": [],
   "source": [
    "job_id_gpu_ov_fp32 = job_id_gpu_ov_fp32[0].split('.')[0]\n",
    "job_id_gpu_ov_fp32 = 'o'+job_id_gpu_ov_fp32\n",
    "count = 0\n",
    "while not os.path.exists('./classify_gpu_ov_fp32.{}'.format(job_id_gpu_ov_fp32)):  # Wait until the stats file is created.\n",
    "    time.sleep(1)\n",
    "    count = count + 1\n",
    "    assert count != 180, \"Job did not finish\" #Wait to for 3 mins to check if job gets done, and break from the infinite loop\n",
    "gpu_ov_fp32 = open(\"./classify_gpu_ov_fp32.{}\".format(job_id_gpu_ov_fp32), \"r\")\n",
    "import re\n",
    "stats_gpu_fp32 = {}\n",
    "for fps_ov in gpu_ov_fp32:\n",
    "    if re.search('FPS', fps_ov):\n",
    "        print(fps_ov)\n",
    "        stats_gpu_fp32['FPS_OV'] = str(fps_ov.split(\" \")[1])\n",
    "    if re.search('Inference time', fps_ov):\n",
    "        print(fps_ov)\n",
    "        stats_gpu_fp32['Time_OV'] = str(fps_ov.split(\" \")[2])\n",
    "    if re.search('Prediction', fps_ov):\n",
    "        print(fps_ov)"
   ]
  },
  {
   "cell_type": "markdown",
   "id": "018ecab4-c6cc-46df-8f06-fc7f71b649dc",
   "metadata": {
    "tags": []
   },
   "source": [
    "## GPU - OpenVINO FP16"
   ]
  },
  {
   "cell_type": "code",
   "execution_count": null,
   "id": "ff4c4a05-36ea-4df7-a5ec-719b10413f90",
   "metadata": {},
   "outputs": [],
   "source": [
    "job_id_gpu_ov_fp16 = job_id_gpu_ov_fp16[0].split('.')[0]\n",
    "job_id_gpu_ov_fp16 = 'o'+job_id_gpu_ov_fp16\n",
    "count = 0\n",
    "while not os.path.exists('./classify_gpu_ov_fp16.{}'.format(job_id_gpu_ov_fp16)):  # Wait until the stats file is created.\n",
    "    time.sleep(1)\n",
    "    count = count + 1\n",
    "    assert count != 180, \"Job did not finish\" #Wait to for 3 mins to check if job gets done, and break from the infinite loop\n",
    "gpu_ov_fp16 = open(\"./classify_gpu_ov_fp16.{}\".format(job_id_gpu_ov_fp16), \"r\")\n",
    "import re\n",
    "stats_gpu_fp16 = {}\n",
    "for fps_ov in gpu_ov_fp16:\n",
    "    if re.search('FPS', fps_ov):\n",
    "        print(fps_ov)\n",
    "        stats_gpu_fp16['FPS_OV'] = str(fps_ov.split(\" \")[1])\n",
    "    if re.search('Inference time', fps_ov):\n",
    "        print(fps_ov)\n",
    "        stats_gpu_fp16['Time_OV'] = str(fps_ov.split(\" \")[2])\n",
    "    if re.search('Prediction', fps_ov):\n",
    "        print(fps_ov)"
   ]
  }
 ],
 "metadata": {
  "kernelspec": {
   "display_name": "OpenVINO 2022.1.0",
   "language": "python",
   "name": "openvino_2022.1.0"
  },
  "language_info": {
   "codemirror_mode": {
    "name": "ipython",
    "version": 3
   },
   "file_extension": ".py",
   "mimetype": "text/x-python",
   "name": "python",
   "nbconvert_exporter": "python",
   "pygments_lexer": "ipython3",
   "version": "3.6.15"
  }
 },
 "nbformat": 4,
 "nbformat_minor": 5
}
